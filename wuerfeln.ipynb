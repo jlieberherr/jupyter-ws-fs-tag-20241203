{
 "cells": [
  {
   "cell_type": "markdown",
   "id": "2e8559697c756cde",
   "metadata": {},
   "source": [
    "# Wie gross ist die Wahrscheinlichkeit mit vier Würfeln mindestens eine sechs zu werfen?"
   ]
  },
  {
   "cell_type": "code",
   "execution_count": null,
   "id": "876e31c0933b3b30",
   "metadata": {
    "jupyter": {
     "is_executing": true
    }
   },
   "outputs": [],
   "source": [
    "# Imports\n",
    "import random\n",
    "import matplotlib.pyplot as plt\n",
    "from matplotlib.ticker import MaxNLocator, MultipleLocator\n",
    "import ipywidgets as widgets\n",
    "from IPython.display import display, clear_output"
   ]
  },
  {
   "cell_type": "code",
   "execution_count": null,
   "id": "910e793f9de02e1c",
   "metadata": {},
   "outputs": [],
   "source": [
    "def wuerfle_n_mal(n):\n",
    "    return [random.randint(1, 6) for _ in range(n)]"
   ]
  },
  {
   "cell_type": "code",
   "execution_count": null,
   "id": "48d1ce8069819d48",
   "metadata": {},
   "outputs": [],
   "source": [
    "def abs_rel_heaufigkeiten_berechnen(anzahl_ausfuehrungen):\n",
    "    li = range(1, anzahl_ausfuehrungen + 1)\n",
    "    absolute_haeufigkeiten = []\n",
    "    anzahl_erfolge = 0\n",
    "    for _ in li:\n",
    "        wurf = wuerfle_n_mal(4)\n",
    "        if 6 in wurf:\n",
    "            anzahl_erfolge += 1\n",
    "        absolute_haeufigkeiten += [anzahl_erfolge]\n",
    "    relative_haeufigkeiten = [float(absolute_haeufigkeiten[i - 1]) / i for i in li]\n",
    "    return absolute_haeufigkeiten, relative_haeufigkeiten"
   ]
  },
  {
   "cell_type": "code",
   "execution_count": null,
   "id": "a8140c04096dbbcd",
   "metadata": {},
   "outputs": [],
   "source": [
    "def plot_simulation(anzahl_ausfuehrungen):\n",
    "    absolute_haeufigkeiten, relative_haeufigkeiten = abs_rel_heaufigkeiten_berechnen(anzahl_ausfuehrungen)\n",
    "    \n",
    "    print(\"Häufigkeiten nach {} Durchführungen:\".format(len(absolute_haeufigkeiten)))\n",
    "    print(\"   absolut: {}\".format(absolute_haeufigkeiten[-1]))\n",
    "    print(\"   relativ: {}\".format(relative_haeufigkeiten[-1]))\n",
    "    fig, ax = plt.subplots()\n",
    "    x_values = range(1, len(relative_haeufigkeiten) + 1)\n",
    "    ax.plot(x_values, relative_haeufigkeiten, linestyle='-')\n",
    "    plt.suptitle(u\"Entwicklung der relativen Häufigkeit ({} Durchführungen)\".format(len(absolute_haeufigkeiten)), fontsize=16, y=0.92)\n",
    "    ax.set_xlabel(u\"Anzahl Ausführungen\", fontsize=12)\n",
    "    ax.set_ylabel(u\"Relative Häufigkeit\", fontsize=12)\n",
    "    ax.set_ylim(0, 1)\n",
    "    ax.yaxis.set_major_locator(MultipleLocator(0.1))\n",
    "    ax.xaxis.set_major_locator(MaxNLocator(integer=True))\n",
    "    ax.grid()\n",
    "    fig.set_size_inches(12, 8)\n",
    "    plt.show()"
   ]
  },
  {
   "cell_type": "code",
   "execution_count": null,
   "id": "36e36b7d-b8c9-4e33-8d14-74292d806c9b",
   "metadata": {},
   "outputs": [],
   "source": [
    "# Interaktives Input-Feld und Start-Button erzeugen\n",
    "int_input = widgets.IntText(\n",
    "    description='Anzahl Ausführungen:',\n",
    "    value=20,\n",
    "    style={'description_width': 'initial'}\n",
    ")\n",
    "button = widgets.Button(description=\"Start\")\n",
    "output = widgets.Output()\n",
    "def on_button_click(b):\n",
    "    with output:\n",
    "        clear_output(wait=True)\n",
    "        num = int_input.value        \n",
    "        plot_simulation(num)\n",
    "button.on_click(on_button_click)\n",
    "display(int_input, button, output)"
   ]
  },
  {
   "cell_type": "code",
   "execution_count": null,
   "id": "d37f315b-21df-4bbe-bda6-290c81a9ad04",
   "metadata": {},
   "outputs": [],
   "source": []
  }
 ],
 "metadata": {
  "kernelspec": {
   "display_name": "Python 3 (ipykernel)",
   "language": "python",
   "name": "python3"
  },
  "language_info": {
   "codemirror_mode": {
    "name": "ipython",
    "version": 3
   },
   "file_extension": ".py",
   "mimetype": "text/x-python",
   "name": "python",
   "nbconvert_exporter": "python",
   "pygments_lexer": "ipython3",
   "version": "3.12.1"
  }
 },
 "nbformat": 4,
 "nbformat_minor": 5
}
