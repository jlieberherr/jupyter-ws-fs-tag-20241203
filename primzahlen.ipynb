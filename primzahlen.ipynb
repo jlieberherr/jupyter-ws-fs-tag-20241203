{
 "cells": [
  {
   "cell_type": "markdown",
   "id": "abeb0d04-f8e7-4674-a643-a9d04f844ec0",
   "metadata": {
    "collapsed": true,
    "jupyter": {
     "outputs_hidden": true
    }
   },
   "source": [
    "# Die Primzahlfunktion"
   ]
  },
  {
   "cell_type": "code",
   "execution_count": null,
   "id": "41ded449-eda3-4062-8734-6773d6e0d0df",
   "metadata": {},
   "outputs": [],
   "source": [
    "import numpy as np \n",
    "import matplotlib.pyplot as plt \n",
    "import sympy\n",
    "import scipy.integrate as integrate\n",
    "from datetime import datetime"
   ]
  },
  {
   "cell_type": "code",
   "execution_count": null,
   "id": "5a4eb8ce-c150-4d43-8d84-d0f3db4217de",
   "metadata": {},
   "outputs": [],
   "source": [
    "def get_values_of_prime_counting_function_up_to(x):\n",
    "    res = []\n",
    "    counter = 0\n",
    "    for i in range(1, x + 1):\n",
    "        if sympy.isprime(i):\n",
    "            counter += 1\n",
    "        res += [counter]\n",
    "    return res"
   ]
  },
  {
   "cell_type": "code",
   "execution_count": null,
   "id": "1f39111d-d867-4246-9a1a-efa111c8c5a6",
   "metadata": {},
   "outputs": [],
   "source": [
    "def plot_prime_counting_function_up_to(x, plot_functions=False, plot_log_int=False, plot_riemann_hypothesis=False):\n",
    "    ar = get_values_of_prime_counting_function_up_to(x)\n",
    "    if plot_functions:\n",
    "        ar_0 = [a / np.log(a) if a != 1 else 0 for a in range(1, x + 1)]\n",
    "        ar_1 = [a / (np.log(a)-1.08366) for a in range(1, x + 1)]\n",
    "    if plot_log_int or plot_riemann_hypothesis:\n",
    "        ar_2_ = [integrate.quad(lambda t: 1/np.log(t), 2, a) for a in range(2, x + 1)]\n",
    "        ar_2 = [0] + [x[0] for x in ar_2_]\n",
    "    t1 = np.arange(1, x + 1, 1, dtype=int)\n",
    "    \n",
    "    plt.figure(figsize=(10,6))\n",
    "    plt.step(t1, ar, where='post', label=\"Primzahlfunktion\")\n",
    "    if plot_functions:\n",
    "        plt.plot(t1, ar_0, label=r\"$\\frac{x}{\\ln(x)}$\")\n",
    "        plt.plot(t1, ar_1, label=r\"$\\frac{x}{\\ln(x) - 1.08366}$\")\n",
    "    if plot_log_int:\n",
    "        plt.plot(t1, ar_2, label=r\"$\\int_{2}^{x} \\frac{\\operatorname{d}t}{\\ln(t)}$\")\n",
    "    if plot_riemann_hypothesis:\n",
    "        ar_2_lb = []\n",
    "        ar_2_ub = []\n",
    "        for i, v in enumerate(ar_2):\n",
    "            x_ = i + 1\n",
    "            er = np.sqrt(x_) * np.log(x_) / 8 / np.pi\n",
    "            ar_2_lb += [v - er]\n",
    "            ar_2_ub += [v + er]\n",
    "        plt.plot(t1, ar_2_lb, label=r\"Untere Schranke RH\")\n",
    "        plt.plot(t1, ar_2_ub, label=r\"Obere Schranke RH\")\n",
    "    plt.axis([0, x, 0, len(set(ar))]) \n",
    "    plt.legend(fontsize=14)\n",
    "    plt.show()"
   ]
  },
  {
   "cell_type": "code",
   "execution_count": null,
   "id": "738bd386-091a-42b2-9fea-1445010e7de8",
   "metadata": {},
   "outputs": [],
   "source": [
    "plot_prime_counting_function_up_to(100)"
   ]
  },
  {
   "cell_type": "code",
   "execution_count": null,
   "id": "216d0ec3-a4b2-41e0-af9d-2b8782f07fca",
   "metadata": {},
   "outputs": [],
   "source": [
    "plot_prime_counting_function_up_to(20000, plot_riemann_hypothesis=True)"
   ]
  },
  {
   "cell_type": "markdown",
   "id": "bd531f9f-1eb4-475b-b793-ec2d9da7a0e1",
   "metadata": {},
   "source": [
    "# Primfaktorzerlegung von Fastprimzahlen"
   ]
  },
  {
   "cell_type": "markdown",
   "id": "ffc88a01-c21d-41cc-afac-009db19cdb81",
   "metadata": {},
   "source": [
    "Eine Fastprimzahl ist eine natürliche Zahl, welche das Produkt von zwei Primzahlen ist."
   ]
  },
  {
   "cell_type": "code",
   "execution_count": null,
   "id": "66168db5-1dc6-479a-8db1-97fdfc81cbd1",
   "metadata": {},
   "outputs": [],
   "source": [
    "def format_number(n):\n",
    "    return str(format(n, \",\")).replace(\",\", \"'\")"
   ]
  },
  {
   "cell_type": "markdown",
   "id": "3b7c0a19-3a6e-4db1-90f3-26a71833a5aa",
   "metadata": {},
   "source": [
    "## Mit zufällig erzeugten Primzahlen"
   ]
  },
  {
   "cell_type": "code",
   "execution_count": null,
   "id": "4bc28c08-dcfb-4299-b43d-5352b5c7b1c6",
   "metadata": {},
   "outputs": [],
   "source": [
    "NB_DIGITS = 15"
   ]
  },
  {
   "cell_type": "code",
   "execution_count": null,
   "id": "26c14a2e-9ecf-46c3-bf98-6c8844fc0f68",
   "metadata": {},
   "outputs": [],
   "source": [
    "# generate tow primes with NB_DIGITS digits\n",
    "start_time = datetime.now()\n",
    "\n",
    "p = sympy.randprime(10**(NB_DIGITS - 1), 10**NB_DIGITS - 1)\n",
    "q = sympy.randprime(10**(NB_DIGITS - 1), 10**NB_DIGITS - 1)\n",
    "\n",
    "end_time = datetime.now()\n",
    "\n",
    "print(f\"Primzahl 1 mit {NB_DIGITS} stellen:\\n{format_number(p)}\")\n",
    "print(f\"\\nPrimzahl 2 mit {NB_DIGITS} stellen:\\n{format_number(q)}\")\n",
    "print(f\"\\nBenötigte Zeit für die Erzeugung der beiden Primzahlen: {end_time - start_time}\")"
   ]
  },
  {
   "cell_type": "code",
   "execution_count": null,
   "id": "e169a744-d058-49b7-a85d-4998b78a9c07",
   "metadata": {},
   "outputs": [],
   "source": [
    "# multiply the two primes\n",
    "start_time = datetime.now()\n",
    "\n",
    "N = p * q\n",
    "\n",
    "end_time = datetime.now()\n",
    "\n",
    "print(f\"Produkt der beiden Primzahlen ({len(str(N))} Stellen):\\n{format_number(N)}\")\n",
    "print(f\"\\nBenötigte Zeit für die Multiplikation der beiden Primzahlen: {end_time - start_time}\")"
   ]
  },
  {
   "cell_type": "code",
   "execution_count": null,
   "id": "00ac678a-a5a2-45bf-93d7-0cef2305ce3d",
   "metadata": {},
   "outputs": [],
   "source": [
    "# factorization of N\n",
    "start_time = datetime.now()\n",
    "\n",
    "factors = sympy.primefactors(N)\n",
    "\n",
    "end_time = datetime.now()\n",
    "\n",
    "factors_formatted = {format_number(x) for x in factors}\n",
    "print(f\"Die berechneten Primfaktoren sind:\")\n",
    "for f in factors_formatted:\n",
    "    print(f)\n",
    "print(f\"Stimmen die berechneten Primfaktoren mit den eingangs generierten Primzahlen überein? \\n{set(factors) == {p, q}}\")\n",
    "print(f\"\\nBenötigte Zeit für die Faktorisierung: {end_time - start_time}\")"
   ]
  },
  {
   "cell_type": "markdown",
   "id": "eaa8b8c6-0a14-4f4c-a0aa-af1d18ea600f",
   "metadata": {},
   "source": [
    "## Mit RSA100 von der RSA Factoring Challenge"
   ]
  },
  {
   "cell_type": "markdown",
   "id": "4979eca2-5058-43db-b3ce-9663537c6023",
   "metadata": {},
   "source": [
    "Siehe [RSA Factoring Challenge](https://en.wikipedia.org/wiki/RSA_Factoring_Challenge) und [RSA numbers](https://en.wikipedia.org/wiki/RSA_numbers)"
   ]
  },
  {
   "cell_type": "code",
   "execution_count": null,
   "id": "2510b46a-7350-49a0-acdb-3d92c9127c16",
   "metadata": {},
   "outputs": [],
   "source": [
    "# this is the 'easiest' number from this challenge\n",
    "rsa_100 = 1522605027922533360535618378132637429718068114961380688657908494580122963258952897654000350692006139"
   ]
  },
  {
   "cell_type": "code",
   "execution_count": null,
   "id": "9ceeccb2-a32b-4f99-9cfd-f31d7fdca726",
   "metadata": {},
   "outputs": [],
   "source": [
    "print(f\"Anzahl Stellen: {len(str(rsa_100))}\")"
   ]
  },
  {
   "cell_type": "code",
   "execution_count": null,
   "id": "0c637d90-b32d-477f-b938-60bc7642318a",
   "metadata": {},
   "outputs": [],
   "source": [
    "p_rsa_100 = 37975227936943673922808872755445627854565536638199\n",
    "q_rsa_100 = 40094690950920881030683735292761468389214899724061"
   ]
  },
  {
   "cell_type": "code",
   "execution_count": null,
   "id": "bf1698e4-429b-4233-a755-e4b461c85ae9",
   "metadata": {},
   "outputs": [],
   "source": [
    "print(sympy.isprime(p_rsa_100))\n",
    "print(sympy.isprime(q_rsa_100))"
   ]
  },
  {
   "cell_type": "code",
   "execution_count": null,
   "id": "27926875-a76b-43ff-a70a-630e1e2b22d8",
   "metadata": {},
   "outputs": [],
   "source": [
    "rsa_100_calc = p_rsa_100 * q_rsa_100\n",
    "rsa_100 == rsa_100_calc"
   ]
  },
  {
   "cell_type": "code",
   "execution_count": null,
   "id": "bf7f544b-b289-4614-af35-fb5ae47135b3",
   "metadata": {},
   "outputs": [],
   "source": [
    "sympy.primefactors(rsa_100) # very long execution time!!!"
   ]
  }
 ],
 "metadata": {
  "kernelspec": {
   "display_name": "Python 3 (ipykernel)",
   "language": "python",
   "name": "python3"
  },
  "language_info": {
   "codemirror_mode": {
    "name": "ipython",
    "version": 3
   },
   "file_extension": ".py",
   "mimetype": "text/x-python",
   "name": "python",
   "nbconvert_exporter": "python",
   "pygments_lexer": "ipython3",
   "version": "3.12.1"
  }
 },
 "nbformat": 4,
 "nbformat_minor": 5
}
